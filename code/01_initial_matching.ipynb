{
 "cells": [
  {
   "cell_type": "code",
   "execution_count": 71,
   "id": "5e1c5ea4-132f-43cf-98ce-cd03ef07ecf6",
   "metadata": {},
   "outputs": [],
   "source": [
    "import pandas as pd\n",
    "import numpy as np"
   ]
  },
  {
   "cell_type": "code",
   "execution_count": 183,
   "id": "9fc136dd-d43e-46a6-999f-32044f9e324f",
   "metadata": {},
   "outputs": [],
   "source": [
    "christmas_pdf=pd.read_excel(r'C:\\Users\\Owner\\Documents\\christmas_movie_list.xlsx', \n",
    "              dtype={'title': str, 'year': int, 'links': str})\n",
    "\n",
    "christmas_pdf.drop(columns = ['links'], inplace = True)"
   ]
  },
  {
   "cell_type": "code",
   "execution_count": 115,
   "id": "2ed0a52e-5ca0-40ea-9a1f-cc931abbda02",
   "metadata": {},
   "outputs": [
    {
     "data": {
      "text/html": [
       "<div>\n",
       "<style scoped>\n",
       "    .dataframe tbody tr th:only-of-type {\n",
       "        vertical-align: middle;\n",
       "    }\n",
       "\n",
       "    .dataframe tbody tr th {\n",
       "        vertical-align: top;\n",
       "    }\n",
       "\n",
       "    .dataframe thead th {\n",
       "        text-align: right;\n",
       "    }\n",
       "</style>\n",
       "<table border=\"1\" class=\"dataframe\">\n",
       "  <thead>\n",
       "    <tr style=\"text-align: right;\">\n",
       "      <th></th>\n",
       "      <th>title</th>\n",
       "      <th>year</th>\n",
       "    </tr>\n",
       "  </thead>\n",
       "  <tbody>\n",
       "    <tr>\n",
       "      <th>0</th>\n",
       "      <td>3 Holiday Tails</td>\n",
       "      <td>2011</td>\n",
       "    </tr>\n",
       "    <tr>\n",
       "      <th>1</th>\n",
       "      <td>1000 Miles from Christmas</td>\n",
       "      <td>2021</td>\n",
       "    </tr>\n",
       "    <tr>\n",
       "      <th>2</th>\n",
       "      <td>12 Dates of Christmas</td>\n",
       "      <td>2011</td>\n",
       "    </tr>\n",
       "    <tr>\n",
       "      <th>3</th>\n",
       "      <td>12 Days of Christmas Eve</td>\n",
       "      <td>2004</td>\n",
       "    </tr>\n",
       "    <tr>\n",
       "      <th>4</th>\n",
       "      <td>12 Days of Giving</td>\n",
       "      <td>2017</td>\n",
       "    </tr>\n",
       "  </tbody>\n",
       "</table>\n",
       "</div>"
      ],
      "text/plain": [
       "                       title  year\n",
       "0            3 Holiday Tails  2011\n",
       "1  1000 Miles from Christmas  2021\n",
       "2      12 Dates of Christmas  2011\n",
       "3   12 Days of Christmas Eve  2004\n",
       "4          12 Days of Giving  2017"
      ]
     },
     "execution_count": 115,
     "metadata": {},
     "output_type": "execute_result"
    }
   ],
   "source": [
    "christmas_pdf.head()"
   ]
  },
  {
   "cell_type": "code",
   "execution_count": 184,
   "id": "33838305-50c6-42ec-8c17-be77a1e2eafb",
   "metadata": {},
   "outputs": [
    {
     "data": {
      "text/plain": [
       "title    1316\n",
       "year     1316\n",
       "dtype: int64"
      ]
     },
     "execution_count": 184,
     "metadata": {},
     "output_type": "execute_result"
    }
   ],
   "source": [
    "christmas_pdf.count()"
   ]
  },
  {
   "cell_type": "code",
   "execution_count": 189,
   "id": "0aec0cc0-cef9-40d5-8adc-eb01741494e9",
   "metadata": {},
   "outputs": [
    {
     "name": "stderr",
     "output_type": "stream",
     "text": [
      "C:\\Users\\Owner\\AppData\\Local\\Temp\\ipykernel_9408\\2980829337.py:1: DtypeWarning: Columns (7) have mixed types. Specify dtype option on import or set low_memory=False.\n",
      "  imdb_df = pd.read_csv(r'C:\\Users\\Owner\\Documents\\title_basics.tsv',\n"
     ]
    },
    {
     "data": {
      "text/plain": [
       "tconst            object\n",
       "titleType         object\n",
       "primaryTitle      object\n",
       "originalTitle     object\n",
       "startYear          Int64\n",
       "runtimeMinutes    object\n",
       "genres_list       object\n",
       "dtype: object"
      ]
     },
     "execution_count": 189,
     "metadata": {},
     "output_type": "execute_result"
    }
   ],
   "source": [
    "imdb_df = pd.read_csv(r'C:\\Users\\Owner\\Documents\\title_basics.tsv', \n",
    "                      sep='\\t',\n",
    "                      na_values = r'\\N',\n",
    "                      dtype = {'startYear': pd.Int64Dtype()}\n",
    "                     )\n",
    "\n",
    "imdb_df['genres_list'] = imdb_df['genres'].str.split(',')\n",
    "imdb_df.drop(columns = ['genres','endYear','isAdult'], inplace = True)\n",
    "imdb_df.dropna(subset=['startYear'], inplace=True)\n",
    "\n",
    "imdb_df.dtypes"
   ]
  },
  {
   "cell_type": "code",
   "execution_count": 192,
   "id": "0177611c-b593-4721-8bb8-2b052d3397af",
   "metadata": {},
   "outputs": [],
   "source": [
    "imdb_movie_df=imdb_df\n",
    "#[imdb_df['titleType'].isin(['tvMovie','movie'])]"
   ]
  },
  {
   "cell_type": "code",
   "execution_count": 193,
   "id": "6ab28ff7-bcb0-40c4-8332-fe676105e7cc",
   "metadata": {},
   "outputs": [
    {
     "data": {
      "text/plain": [
       "tconst            1158\n",
       "year              1158\n",
       "title             1158\n",
       "originalTitle     1158\n",
       "titleType         1158\n",
       "runtimeMinutes    1037\n",
       "genres_list       1153\n",
       "dtype: int64"
      ]
     },
     "execution_count": 193,
     "metadata": {},
     "output_type": "execute_result"
    }
   ],
   "source": [
    "main_pdf = pd.merge(christmas_pdf, imdb_movie_df.rename(columns={'primaryTitle':'title','startYear':'year'}), on=['title','year'],  how='inner')\n",
    "main_pdf=main_pdf[['tconst', 'year', 'title','originalTitle','titleType','runtimeMinutes','genres_list']]\n",
    "main_pdf.count()"
   ]
  },
  {
   "cell_type": "code",
   "execution_count": 194,
   "id": "ad8c1eed-3542-4c96-93b7-ebf5d81ca853",
   "metadata": {},
   "outputs": [
    {
     "data": {
      "text/html": [
       "<div>\n",
       "<style scoped>\n",
       "    .dataframe tbody tr th:only-of-type {\n",
       "        vertical-align: middle;\n",
       "    }\n",
       "\n",
       "    .dataframe tbody tr th {\n",
       "        vertical-align: top;\n",
       "    }\n",
       "\n",
       "    .dataframe thead th {\n",
       "        text-align: right;\n",
       "    }\n",
       "</style>\n",
       "<table border=\"1\" class=\"dataframe\">\n",
       "  <thead>\n",
       "    <tr style=\"text-align: right;\">\n",
       "      <th></th>\n",
       "      <th>tconst</th>\n",
       "      <th>year</th>\n",
       "      <th>title</th>\n",
       "      <th>originalTitle</th>\n",
       "      <th>titleType</th>\n",
       "      <th>runtimeMinutes</th>\n",
       "      <th>genres_list</th>\n",
       "    </tr>\n",
       "  </thead>\n",
       "  <tbody>\n",
       "    <tr>\n",
       "      <th>0</th>\n",
       "      <td>tt1942787</td>\n",
       "      <td>2011</td>\n",
       "      <td>3 Holiday Tails</td>\n",
       "      <td>3 Holiday Tails</td>\n",
       "      <td>tvMovie</td>\n",
       "      <td>88.0</td>\n",
       "      <td>[Comedy, Family, Romance]</td>\n",
       "    </tr>\n",
       "    <tr>\n",
       "      <th>1</th>\n",
       "      <td>tt13782052</td>\n",
       "      <td>2021</td>\n",
       "      <td>1000 Miles from Christmas</td>\n",
       "      <td>A mil kilómetros de la Navidad</td>\n",
       "      <td>movie</td>\n",
       "      <td>102.0</td>\n",
       "      <td>[Comedy, Romance]</td>\n",
       "    </tr>\n",
       "    <tr>\n",
       "      <th>2</th>\n",
       "      <td>tt1846442</td>\n",
       "      <td>2011</td>\n",
       "      <td>12 Dates of Christmas</td>\n",
       "      <td>12 Dates of Christmas</td>\n",
       "      <td>tvMovie</td>\n",
       "      <td>90.0</td>\n",
       "      <td>[Comedy, Family, Fantasy]</td>\n",
       "    </tr>\n",
       "    <tr>\n",
       "      <th>3</th>\n",
       "      <td>tt6303962</td>\n",
       "      <td>2017</td>\n",
       "      <td>12 Days of Giving</td>\n",
       "      <td>12 Days of Giving</td>\n",
       "      <td>tvMovie</td>\n",
       "      <td>85.0</td>\n",
       "      <td>[Comedy, Drama, Family]</td>\n",
       "    </tr>\n",
       "    <tr>\n",
       "      <th>4</th>\n",
       "      <td>tt3579698</td>\n",
       "      <td>2014</td>\n",
       "      <td>12 Dog Days Till Christmas</td>\n",
       "      <td>12 Dog Days of Christmas</td>\n",
       "      <td>movie</td>\n",
       "      <td>90.0</td>\n",
       "      <td>[Comedy, Drama, Family]</td>\n",
       "    </tr>\n",
       "  </tbody>\n",
       "</table>\n",
       "</div>"
      ],
      "text/plain": [
       "       tconst  year                       title  \\\n",
       "0   tt1942787  2011             3 Holiday Tails   \n",
       "1  tt13782052  2021   1000 Miles from Christmas   \n",
       "2   tt1846442  2011       12 Dates of Christmas   \n",
       "3   tt6303962  2017           12 Days of Giving   \n",
       "4   tt3579698  2014  12 Dog Days Till Christmas   \n",
       "\n",
       "                    originalTitle titleType runtimeMinutes  \\\n",
       "0                 3 Holiday Tails   tvMovie           88.0   \n",
       "1  A mil kilómetros de la Navidad     movie          102.0   \n",
       "2           12 Dates of Christmas   tvMovie           90.0   \n",
       "3               12 Days of Giving   tvMovie           85.0   \n",
       "4        12 Dog Days of Christmas     movie           90.0   \n",
       "\n",
       "                 genres_list  \n",
       "0  [Comedy, Family, Romance]  \n",
       "1          [Comedy, Romance]  \n",
       "2  [Comedy, Family, Fantasy]  \n",
       "3    [Comedy, Drama, Family]  \n",
       "4    [Comedy, Drama, Family]  "
      ]
     },
     "execution_count": 194,
     "metadata": {},
     "output_type": "execute_result"
    }
   ],
   "source": [
    "main_pdf.head()"
   ]
  },
  {
   "cell_type": "code",
   "execution_count": 143,
   "id": "d4e12966-ca15-49dd-b77c-cc6f8359795a",
   "metadata": {},
   "outputs": [],
   "source": [
    "ratings_df = pd.read_csv(r'C:\\Users\\Owner\\Documents\\title_ratings.tsv', \n",
    "                      sep='\\t',\n",
    "                      na_values = r'\\N'\n",
    "                     )"
   ]
  },
  {
   "cell_type": "code",
   "execution_count": 160,
   "id": "c62b3301-c94b-41d0-a27e-ffb398991000",
   "metadata": {},
   "outputs": [
    {
     "data": {
      "text/html": [
       "<div>\n",
       "<style scoped>\n",
       "    .dataframe tbody tr th:only-of-type {\n",
       "        vertical-align: middle;\n",
       "    }\n",
       "\n",
       "    .dataframe tbody tr th {\n",
       "        vertical-align: top;\n",
       "    }\n",
       "\n",
       "    .dataframe thead th {\n",
       "        text-align: right;\n",
       "    }\n",
       "</style>\n",
       "<table border=\"1\" class=\"dataframe\">\n",
       "  <thead>\n",
       "    <tr style=\"text-align: right;\">\n",
       "      <th></th>\n",
       "      <th>tconst</th>\n",
       "      <th>averageRating</th>\n",
       "      <th>numVotes</th>\n",
       "    </tr>\n",
       "  </thead>\n",
       "  <tbody>\n",
       "    <tr>\n",
       "      <th>0</th>\n",
       "      <td>tt0000001</td>\n",
       "      <td>5.7</td>\n",
       "      <td>1922</td>\n",
       "    </tr>\n",
       "    <tr>\n",
       "      <th>1</th>\n",
       "      <td>tt0000002</td>\n",
       "      <td>5.8</td>\n",
       "      <td>259</td>\n",
       "    </tr>\n",
       "    <tr>\n",
       "      <th>2</th>\n",
       "      <td>tt0000003</td>\n",
       "      <td>6.5</td>\n",
       "      <td>1734</td>\n",
       "    </tr>\n",
       "    <tr>\n",
       "      <th>3</th>\n",
       "      <td>tt0000004</td>\n",
       "      <td>5.6</td>\n",
       "      <td>174</td>\n",
       "    </tr>\n",
       "    <tr>\n",
       "      <th>4</th>\n",
       "      <td>tt0000005</td>\n",
       "      <td>6.2</td>\n",
       "      <td>2545</td>\n",
       "    </tr>\n",
       "  </tbody>\n",
       "</table>\n",
       "</div>"
      ],
      "text/plain": [
       "      tconst  averageRating  numVotes\n",
       "0  tt0000001            5.7      1922\n",
       "1  tt0000002            5.8       259\n",
       "2  tt0000003            6.5      1734\n",
       "3  tt0000004            5.6       174\n",
       "4  tt0000005            6.2      2545"
      ]
     },
     "execution_count": 160,
     "metadata": {},
     "output_type": "execute_result"
    }
   ],
   "source": [
    "ratings_df.head()"
   ]
  },
  {
   "cell_type": "code",
   "execution_count": 195,
   "id": "995243b9-5376-4603-b283-8b9f028ecdf2",
   "metadata": {},
   "outputs": [],
   "source": [
    "main_pdf=main_pdf.merge(ratings_df, on='tconst', how = 'inner')"
   ]
  },
  {
   "cell_type": "code",
   "execution_count": 166,
   "id": "a8306657-af5b-4e08-9847-cfe015cd6a1c",
   "metadata": {},
   "outputs": [
    {
     "data": {
      "text/html": [
       "<div>\n",
       "<style scoped>\n",
       "    .dataframe tbody tr th:only-of-type {\n",
       "        vertical-align: middle;\n",
       "    }\n",
       "\n",
       "    .dataframe tbody tr th {\n",
       "        vertical-align: top;\n",
       "    }\n",
       "\n",
       "    .dataframe thead th {\n",
       "        text-align: right;\n",
       "    }\n",
       "</style>\n",
       "<table border=\"1\" class=\"dataframe\">\n",
       "  <thead>\n",
       "    <tr style=\"text-align: right;\">\n",
       "      <th></th>\n",
       "      <th>tconst</th>\n",
       "      <th>year</th>\n",
       "      <th>title</th>\n",
       "      <th>originalTitle</th>\n",
       "      <th>titleType</th>\n",
       "      <th>runtimeMinutes</th>\n",
       "      <th>genres_list</th>\n",
       "      <th>averageRating</th>\n",
       "      <th>numVotes</th>\n",
       "    </tr>\n",
       "  </thead>\n",
       "  <tbody>\n",
       "    <tr>\n",
       "      <th>0</th>\n",
       "      <td>tt1942787</td>\n",
       "      <td>2011</td>\n",
       "      <td>3 Holiday Tails</td>\n",
       "      <td>3 Holiday Tails</td>\n",
       "      <td>tvMovie</td>\n",
       "      <td>88.0</td>\n",
       "      <td>[Comedy, Family, Romance]</td>\n",
       "      <td>5.6</td>\n",
       "      <td>788</td>\n",
       "    </tr>\n",
       "    <tr>\n",
       "      <th>1</th>\n",
       "      <td>tt13782052</td>\n",
       "      <td>2021</td>\n",
       "      <td>1000 Miles from Christmas</td>\n",
       "      <td>A mil kilómetros de la Navidad</td>\n",
       "      <td>movie</td>\n",
       "      <td>102.0</td>\n",
       "      <td>[Comedy, Romance]</td>\n",
       "      <td>5.8</td>\n",
       "      <td>1555</td>\n",
       "    </tr>\n",
       "    <tr>\n",
       "      <th>2</th>\n",
       "      <td>tt1846442</td>\n",
       "      <td>2011</td>\n",
       "      <td>12 Dates of Christmas</td>\n",
       "      <td>12 Dates of Christmas</td>\n",
       "      <td>tvMovie</td>\n",
       "      <td>90.0</td>\n",
       "      <td>[Comedy, Family, Fantasy]</td>\n",
       "      <td>6.3</td>\n",
       "      <td>6904</td>\n",
       "    </tr>\n",
       "    <tr>\n",
       "      <th>3</th>\n",
       "      <td>tt6303962</td>\n",
       "      <td>2017</td>\n",
       "      <td>12 Days of Giving</td>\n",
       "      <td>12 Days of Giving</td>\n",
       "      <td>tvMovie</td>\n",
       "      <td>85.0</td>\n",
       "      <td>[Comedy, Drama, Family]</td>\n",
       "      <td>6.0</td>\n",
       "      <td>943</td>\n",
       "    </tr>\n",
       "    <tr>\n",
       "      <th>4</th>\n",
       "      <td>tt3579698</td>\n",
       "      <td>2014</td>\n",
       "      <td>12 Dog Days Till Christmas</td>\n",
       "      <td>12 Dog Days of Christmas</td>\n",
       "      <td>movie</td>\n",
       "      <td>90.0</td>\n",
       "      <td>[Comedy, Drama, Family]</td>\n",
       "      <td>4.7</td>\n",
       "      <td>473</td>\n",
       "    </tr>\n",
       "  </tbody>\n",
       "</table>\n",
       "</div>"
      ],
      "text/plain": [
       "       tconst  year                       title  \\\n",
       "0   tt1942787  2011             3 Holiday Tails   \n",
       "1  tt13782052  2021   1000 Miles from Christmas   \n",
       "2   tt1846442  2011       12 Dates of Christmas   \n",
       "3   tt6303962  2017           12 Days of Giving   \n",
       "4   tt3579698  2014  12 Dog Days Till Christmas   \n",
       "\n",
       "                    originalTitle titleType runtimeMinutes  \\\n",
       "0                 3 Holiday Tails   tvMovie           88.0   \n",
       "1  A mil kilómetros de la Navidad     movie          102.0   \n",
       "2           12 Dates of Christmas   tvMovie           90.0   \n",
       "3               12 Days of Giving   tvMovie           85.0   \n",
       "4        12 Dog Days of Christmas     movie           90.0   \n",
       "\n",
       "                 genres_list  averageRating  numVotes  \n",
       "0  [Comedy, Family, Romance]            5.6       788  \n",
       "1          [Comedy, Romance]            5.8      1555  \n",
       "2  [Comedy, Family, Fantasy]            6.3      6904  \n",
       "3    [Comedy, Drama, Family]            6.0       943  \n",
       "4    [Comedy, Drama, Family]            4.7       473  "
      ]
     },
     "execution_count": 166,
     "metadata": {},
     "output_type": "execute_result"
    }
   ],
   "source": [
    "main_pdf.head()"
   ]
  },
  {
   "cell_type": "code",
   "execution_count": 196,
   "id": "bfb5a58c-cb5d-44e3-8d7d-c4011790a14b",
   "metadata": {},
   "outputs": [
    {
     "data": {
      "text/plain": [
       "<AxesSubplot:xlabel='year'>"
      ]
     },
     "execution_count": 196,
     "metadata": {},
     "output_type": "execute_result"
    },
    {
     "data": {
      "image/png": "[encoded data removed]",
      "text/plain": [
       "<Figure size 640x480 with 1 Axes>"
      ]
     },
     "metadata": {},
     "output_type": "display_data"
    }
   ],
   "source": [
    "movies_per_year = main_pdf[['tconst','year']].groupby('year').count()\n",
    "movies_per_year=movies_per_year.rename(columns={\"tconst\": \"movie_count\"})\n",
    "movies_per_year.plot()"
   ]
  },
  {
   "cell_type": "code",
   "execution_count": 197,
   "id": "9252409b-d2d7-4f9c-900a-9549e2063db6",
   "metadata": {},
   "outputs": [
    {
     "data": {
      "text/plain": [
       "<AxesSubplot:xlabel='year'>"
      ]
     },
     "execution_count": 197,
     "metadata": {},
     "output_type": "execute_result"
    },
    {
     "data": {
      "image/png": "[encoded data removed]",
      "text/plain": [
       "<Figure size 640x480 with 1 Axes>"
      ]
     },
     "metadata": {},
     "output_type": "display_data"
    }
   ],
   "source": [
    "ratings_per_year = main_pdf[['averageRating','year']].groupby('year', dropna=True).mean()\n",
    "ratings_per_year.plot()"
   ]
  },
  {
   "cell_type": "code",
   "execution_count": 174,
   "id": "676b63d5-8c9a-493f-bf32-74ace1022e5b",
   "metadata": {},
   "outputs": [
    {
     "data": {
      "text/plain": [
       "<AxesSubplot:xlabel='year'>"
      ]
     },
     "execution_count": 174,
     "metadata": {},
     "output_type": "execute_result"
    },
    {
     "data": {
      "image/png": "[encoded data removed]",
      "text/plain": [
       "<Figure size 640x480 with 1 Axes>"
      ]
     },
     "metadata": {},
     "output_type": "display_data"
    }
   ],
   "source": [
    "reviews_per_year = main_pdf[['numVotes','year']].groupby('year', dropna=True).sum()\n",
    "reviews_per_year.plot()"
   ]
  },
  {
   "cell_type": "code",
   "execution_count": 180,
   "id": "481f6e22-5112-4754-8f0b-8647755cefc2",
   "metadata": {},
   "outputs": [
    {
     "data": {
      "text/plain": [
       "numVotes    444.2\n",
       "Name: 0.2, dtype: float64"
      ]
     },
     "execution_count": 180,
     "metadata": {},
     "output_type": "execute_result"
    }
   ],
   "source": [
    "main_pdf[['numVotes']].quantile(0.2)"
   ]
  },
  {
   "cell_type": "code",
   "execution_count": 181,
   "id": "007cd592-6850-4d98-8e90-9077c07014d4",
   "metadata": {},
   "outputs": [
    {
     "data": {
      "text/html": [
       "<div>\n",
       "<style scoped>\n",
       "    .dataframe tbody tr th:only-of-type {\n",
       "        vertical-align: middle;\n",
       "    }\n",
       "\n",
       "    .dataframe tbody tr th {\n",
       "        vertical-align: top;\n",
       "    }\n",
       "\n",
       "    .dataframe thead th {\n",
       "        text-align: right;\n",
       "    }\n",
       "</style>\n",
       "<table border=\"1\" class=\"dataframe\">\n",
       "  <thead>\n",
       "    <tr style=\"text-align: right;\">\n",
       "      <th></th>\n",
       "      <th>tconst</th>\n",
       "      <th>year</th>\n",
       "      <th>title</th>\n",
       "      <th>originalTitle</th>\n",
       "      <th>titleType</th>\n",
       "      <th>runtimeMinutes</th>\n",
       "      <th>genres_list</th>\n",
       "      <th>averageRating</th>\n",
       "      <th>numVotes</th>\n",
       "    </tr>\n",
       "  </thead>\n",
       "  <tbody>\n",
       "    <tr>\n",
       "      <th>24</th>\n",
       "      <td>tt0059026</td>\n",
       "      <td>1965</td>\n",
       "      <td>A Charlie Brown Christmas</td>\n",
       "      <td>A Charlie Brown Christmas</td>\n",
       "      <td>tvMovie</td>\n",
       "      <td>25.0</td>\n",
       "      <td>[Animation, Comedy, Drama]</td>\n",
       "      <td>8.3</td>\n",
       "      <td>37734</td>\n",
       "    </tr>\n",
       "    <tr>\n",
       "      <th>818</th>\n",
       "      <td>tt0067209</td>\n",
       "      <td>1971</td>\n",
       "      <td>The Homecoming: A Christmas Story</td>\n",
       "      <td>The Homecoming: A Christmas Story</td>\n",
       "      <td>tvMovie</td>\n",
       "      <td>100.0</td>\n",
       "      <td>[Drama, Family]</td>\n",
       "      <td>8.3</td>\n",
       "      <td>1820</td>\n",
       "    </tr>\n",
       "    <tr>\n",
       "      <th>423</th>\n",
       "      <td>tt0095016</td>\n",
       "      <td>1988</td>\n",
       "      <td>Die Hard</td>\n",
       "      <td>Die Hard</td>\n",
       "      <td>movie</td>\n",
       "      <td>132.0</td>\n",
       "      <td>[Action, Thriller]</td>\n",
       "      <td>8.2</td>\n",
       "      <td>872646</td>\n",
       "    </tr>\n",
       "    <tr>\n",
       "      <th>541</th>\n",
       "      <td>tt4729430</td>\n",
       "      <td>2019</td>\n",
       "      <td>Klaus</td>\n",
       "      <td>Klaus</td>\n",
       "      <td>movie</td>\n",
       "      <td>96.0</td>\n",
       "      <td>[Adventure, Animation, Comedy]</td>\n",
       "      <td>8.1</td>\n",
       "      <td>148542</td>\n",
       "    </tr>\n",
       "    <tr>\n",
       "      <th>29</th>\n",
       "      <td>tt0044008</td>\n",
       "      <td>1951</td>\n",
       "      <td>A Christmas Carol</td>\n",
       "      <td>Scrooge</td>\n",
       "      <td>movie</td>\n",
       "      <td>86.0</td>\n",
       "      <td>[Drama, Family, Fantasy]</td>\n",
       "      <td>8.1</td>\n",
       "      <td>22947</td>\n",
       "    </tr>\n",
       "    <tr>\n",
       "      <th>...</th>\n",
       "      <td>...</td>\n",
       "      <td>...</td>\n",
       "      <td>...</td>\n",
       "      <td>...</td>\n",
       "      <td>...</td>\n",
       "      <td>...</td>\n",
       "      <td>...</td>\n",
       "      <td>...</td>\n",
       "      <td>...</td>\n",
       "    </tr>\n",
       "    <tr>\n",
       "      <th>674</th>\n",
       "      <td>tt3922810</td>\n",
       "      <td>2014</td>\n",
       "      <td>Santa Claws</td>\n",
       "      <td>Santa Claws</td>\n",
       "      <td>movie</td>\n",
       "      <td>86</td>\n",
       "      <td>[Family, Fantasy]</td>\n",
       "      <td>3.0</td>\n",
       "      <td>812</td>\n",
       "    </tr>\n",
       "    <tr>\n",
       "      <th>672</th>\n",
       "      <td>tt0058548</td>\n",
       "      <td>1964</td>\n",
       "      <td>Santa Claus Conquers the Martians</td>\n",
       "      <td>Santa Claus Conquers the Martians</td>\n",
       "      <td>movie</td>\n",
       "      <td>81.0</td>\n",
       "      <td>[Adventure, Comedy, Family]</td>\n",
       "      <td>2.6</td>\n",
       "      <td>11851</td>\n",
       "    </tr>\n",
       "    <tr>\n",
       "      <th>671</th>\n",
       "      <td>tt0053241</td>\n",
       "      <td>1959</td>\n",
       "      <td>Santa Claus</td>\n",
       "      <td>Santa Claus</td>\n",
       "      <td>movie</td>\n",
       "      <td>94.0</td>\n",
       "      <td>[Comedy, Family, Fantasy]</td>\n",
       "      <td>2.6</td>\n",
       "      <td>4960</td>\n",
       "    </tr>\n",
       "    <tr>\n",
       "      <th>679</th>\n",
       "      <td>tt0117550</td>\n",
       "      <td>1996</td>\n",
       "      <td>Santa with Muscles</td>\n",
       "      <td>Santa with Muscles</td>\n",
       "      <td>movie</td>\n",
       "      <td>97.0</td>\n",
       "      <td>[Comedy]</td>\n",
       "      <td>2.5</td>\n",
       "      <td>9100</td>\n",
       "    </tr>\n",
       "    <tr>\n",
       "      <th>873</th>\n",
       "      <td>tt0193524</td>\n",
       "      <td>1978</td>\n",
       "      <td>The Star Wars Holiday Special</td>\n",
       "      <td>The Star Wars Holiday Special</td>\n",
       "      <td>tvMovie</td>\n",
       "      <td>97.0</td>\n",
       "      <td>[Adventure, Family, Musical]</td>\n",
       "      <td>2.1</td>\n",
       "      <td>15503</td>\n",
       "    </tr>\n",
       "  </tbody>\n",
       "</table>\n",
       "<p>737 rows × 9 columns</p>\n",
       "</div>"
      ],
      "text/plain": [
       "        tconst  year                              title  \\\n",
       "24   tt0059026  1965          A Charlie Brown Christmas   \n",
       "818  tt0067209  1971  The Homecoming: A Christmas Story   \n",
       "423  tt0095016  1988                           Die Hard   \n",
       "541  tt4729430  2019                              Klaus   \n",
       "29   tt0044008  1951                  A Christmas Carol   \n",
       "..         ...   ...                                ...   \n",
       "674  tt3922810  2014                        Santa Claws   \n",
       "672  tt0058548  1964  Santa Claus Conquers the Martians   \n",
       "671  tt0053241  1959                        Santa Claus   \n",
       "679  tt0117550  1996                 Santa with Muscles   \n",
       "873  tt0193524  1978      The Star Wars Holiday Special   \n",
       "\n",
       "                         originalTitle titleType runtimeMinutes  \\\n",
       "24           A Charlie Brown Christmas   tvMovie           25.0   \n",
       "818  The Homecoming: A Christmas Story   tvMovie          100.0   \n",
       "423                           Die Hard     movie          132.0   \n",
       "541                              Klaus     movie           96.0   \n",
       "29                             Scrooge     movie           86.0   \n",
       "..                                 ...       ...            ...   \n",
       "674                        Santa Claws     movie             86   \n",
       "672  Santa Claus Conquers the Martians     movie           81.0   \n",
       "671                        Santa Claus     movie           94.0   \n",
       "679                 Santa with Muscles     movie           97.0   \n",
       "873      The Star Wars Holiday Special   tvMovie           97.0   \n",
       "\n",
       "                        genres_list  averageRating  numVotes  \n",
       "24       [Animation, Comedy, Drama]            8.3     37734  \n",
       "818                 [Drama, Family]            8.3      1820  \n",
       "423              [Action, Thriller]            8.2    872646  \n",
       "541  [Adventure, Animation, Comedy]            8.1    148542  \n",
       "29         [Drama, Family, Fantasy]            8.1     22947  \n",
       "..                              ...            ...       ...  \n",
       "674               [Family, Fantasy]            3.0       812  \n",
       "672     [Adventure, Comedy, Family]            2.6     11851  \n",
       "671       [Comedy, Family, Fantasy]            2.6      4960  \n",
       "679                        [Comedy]            2.5      9100  \n",
       "873    [Adventure, Family, Musical]            2.1     15503  \n",
       "\n",
       "[737 rows x 9 columns]"
      ]
     },
     "execution_count": 181,
     "metadata": {},
     "output_type": "execute_result"
    }
   ],
   "source": [
    "main_pdf[main_pdf['numVotes']>444].sort_values(by=['averageRating','numVotes'],ascending=False)"
   ]
  },
  {
   "cell_type": "code",
   "execution_count": 198,
   "id": "bc01d4ec-ca05-4e76-81e1-2222c45b7415",
   "metadata": {},
   "outputs": [],
   "source": [
    "main_pdf.to_csv('christmas_movie_list_with_tconst.csv')"
   ]
  }
 ],
 "metadata": {
  "kernelspec": {
   "display_name": "Python 3 (ipykernel)",
   "language": "python",
   "name": "python3"
  },
  "language_info": {
   "codemirror_mode": {
    "name": "ipython",
    "version": 3
   },
   "file_extension": ".py",
   "mimetype": "text/x-python",
   "name": "python",
   "nbconvert_exporter": "python",
   "pygments_lexer": "ipython3",
   "version": "3.9.13"
  }
 },
 "nbformat": 4,
 "nbformat_minor": 5
}
